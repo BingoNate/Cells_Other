{
 "cells": [
  {
   "cell_type": "code",
   "execution_count": 1,
   "metadata": {
    "collapsed": true
   },
   "outputs": [],
   "source": [
    "import numpy as np\n",
    "import sys\n",
    "sys.path.append('/Users/melampyge/Documents/Research/Cells_in_LAMMPS/Scripts/Utility')\n",
    "\n",
    "import numpy as np\n",
    "import os\n",
    "import read_write\n",
    "import h5py\n",
    "import combine_dumps_to_h5\n",
    "import misc_tools\n",
    "\n",
    "import matplotlib as mpl\n",
    "mpl.use('Agg', warn=False)\n",
    "import matplotlib.pyplot as plt\n",
    "import misc_tools\n",
    "%matplotlib inline\n",
    "\n",
    "from scipy.optimize import curve_fit"
   ]
  },
  {
   "cell_type": "code",
   "execution_count": 2,
   "metadata": {
    "collapsed": true
   },
   "outputs": [],
   "source": [
    "import seaborn as sns\n",
    "sns.set(style=\"white\",context='paper',\n",
    "        font_scale=1.2,font=\"Open Sans\",\n",
    "        rc={'mathtext.default': 'regular','font.size': 30, \n",
    "            'font.family': 'sans',\"figure.dpi\":300,\n",
    "            \"xtick.major.size\": 8, \"ytick.major.size\": 8,\n",
    "            'grid.linestyle': '--'})   "
   ]
  },
  {
   "cell_type": "code",
   "execution_count": 3,
   "metadata": {
    "collapsed": true
   },
   "outputs": [],
   "source": [
    "datapath = '/Users/melampyge/Documents/Research/Cells_in_LAMMPS/INITIAL_CONDITIONS/input_equib_d=0.8.data'"
   ]
  },
  {
   "cell_type": "code",
   "execution_count": 4,
   "metadata": {
    "collapsed": true
   },
   "outputs": [],
   "source": [
    "def check_pbc(x, y, lx, ly):\n",
    "    \"\"\" check if the coordinates are inside the central box\"\"\"\n",
    "    \n",
    "    if len(x[x>lx])==0 and len(x[x<0.])==0 and len(y[y>ly])==0 and len(y[y<0.])==0:\n",
    "        print \"Cells are inside the central box\"\n",
    "    else:\n",
    "        print \"WARNING: Cells are not inside the central box!\" "
   ]
  },
  {
   "cell_type": "code",
   "execution_count": 5,
   "metadata": {
    "collapsed": true
   },
   "outputs": [],
   "source": [
    "def skip_lines(f, n):\n",
    "    \"\"\" skip n many lines in the file\"\"\"\n",
    "    \n",
    "    for j in xrange(n):\n",
    "        f.readline()\n",
    "        \n",
    "    return"
   ]
  },
  {
   "cell_type": "code",
   "execution_count": 6,
   "metadata": {
    "collapsed": true
   },
   "outputs": [],
   "source": [
    "def read_bead_info(f, nbeads, lx, ly):\n",
    "    \"\"\" read bead information in a single snapshot\"\"\"\n",
    "    \n",
    "    mid = np.zeros((nbeads), dtype=np.int32)\n",
    "    x = np.zeros((nbeads), dtype=np.float32)\n",
    "    y = np.zeros((nbeads), dtype=np.float32)\n",
    "    for j in xrange(nbeads):\n",
    "        line = f.readline().split()\n",
    "        idx = int(line[0])-1\n",
    "        mid[idx], typ, x[idx], y[idx], z, ix, iy = line[1:-1]\n",
    "        x[idx] += float(ix)*lx\n",
    "        y[idx] += float(iy)*ly\n",
    "            \n",
    "    return mid-1, x, y"
   ]
  },
  {
   "cell_type": "code",
   "execution_count": 7,
   "metadata": {
    "collapsed": false
   },
   "outputs": [],
   "source": [
    "def read_data(path):\n",
    "    \"\"\" read lammps style data for a single snapshot\"\"\"\n",
    "    \n",
    "    if os.path.exists(path) == False:\n",
    "        raise ValueError(\"The file cannot be found: \" + path)\n",
    "    with open(path, 'r') as f:\n",
    "        f.readline()\n",
    "        f.readline()\n",
    "        line = f.readline().split()\n",
    "        nbeads = int(line[0])\n",
    "        skip_lines(f, 6)\n",
    "        line = f.readline().split()\n",
    "        lx = float(line[1])\n",
    "        line = f.readline().split()\n",
    "        ly = float(line[1])\n",
    "        skip_lines(f, 8)\n",
    "        cid, x, y = read_bead_info(f, nbeads, lx, ly)\n",
    "          \n",
    "    return cid, x, y, lx, ly, nbeads"
   ]
  },
  {
   "cell_type": "code",
   "execution_count": 8,
   "metadata": {
    "collapsed": true
   },
   "outputs": [],
   "source": [
    "def set_cell_props(cid):\n",
    "    \"\"\" set properties of cells\"\"\"\n",
    "    \n",
    "    ncells = len(np.unique(cid))\n",
    "    nbpc = np.zeros((ncells), dtype=np.int32)\n",
    "    for j in xrange(ncells):\n",
    "        nbpc[j] = len(cid[cid==j])  \n",
    "    radii = nbpc*0.5/2./np.pi\n",
    "        \n",
    "    return ncells, nbpc, radii"
   ]
  },
  {
   "cell_type": "code",
   "execution_count": 9,
   "metadata": {
    "collapsed": false
   },
   "outputs": [
    {
     "name": "stdout",
     "output_type": "stream",
     "text": [
      "WARNING: Cells are not inside the central box!\n"
     ]
    }
   ],
   "source": [
    "cid, x, y, lx, ly, nbeads = read_data(datapath)\n",
    "check_pbc(x, y, lx, ly)\n",
    "ncells, nbpc, radii = set_cell_props(cid)"
   ]
  },
  {
   "cell_type": "code",
   "execution_count": 10,
   "metadata": {
    "collapsed": true
   },
   "outputs": [],
   "source": [
    "def wrap_coords(x, y, lx, ly):\n",
    "    \"\"\" wrap the coordinates inside the central box\"\"\"\n",
    "    \n",
    "    xi = x-np.floor(x/lx)*lx\n",
    "    yi = y-np.floor(y/ly)*ly\n",
    "    \n",
    "    return xi, yi"
   ]
  },
  {
   "cell_type": "code",
   "execution_count": 11,
   "metadata": {
    "collapsed": true
   },
   "outputs": [],
   "source": [
    "xi, yi = wrap_coords(x, y, lx, ly)"
   ]
  },
  {
   "cell_type": "code",
   "execution_count": 12,
   "metadata": {
    "collapsed": false
   },
   "outputs": [],
   "source": [
    "import vapory\n",
    "import matplotlib.cm as cm\n",
    "import matplotlib.colors as mplcolors"
   ]
  },
  {
   "cell_type": "code",
   "execution_count": 13,
   "metadata": {
    "collapsed": false
   },
   "outputs": [],
   "source": [
    "### POVRAY settings\n",
    "\n",
    "# center of mass for the whole box\n",
    "xcm = np.mean(xi)\n",
    "ycm = np.mean(yi)\n",
    "radius = np.mean(radii)\n",
    "\n",
    "# sphere radius\n",
    "sphere_radius = 0.4\n",
    "\n",
    "# RESOLUTION\n",
    "img_widthpx = 1024\n",
    "img_heightpx = 1024\n",
    "\n",
    "# includes and defaults\n",
    "povray_includes = [\"colors.inc\", \"textures.inc\", \"shapes.inc\"]\n",
    "povray_defaults = [vapory.Finish('ambient', 0.1,\n",
    "                  'diffuse', 0.65,\n",
    "                  'specular', 0.5,\n",
    "                  'shininess', 0.53,\n",
    "                  'opacity', 1.0)]\n",
    "\n",
    "\n",
    "# light sources\n",
    "sun1 = vapory.LightSource([0.*xcm, 0.*ycm, -0.*radius], 'color', 'White')\n",
    "sun2 = vapory.LightSource([xcm, ycm, -100.01*radius], 'color', [0.7, 0.7, 0.7])\n",
    "\n",
    "# background\n",
    "background = vapory.Background('color', [1,1,1])\n",
    "\n",
    "# camera\n",
    "#povray_cam = vapory.Camera('angle', 75, 'location',  \\\n",
    "#[-15 , 15.0+0.5,15.0-0.25],'look_at', [0.25 , 15.0+0.5, 15.0-0.25])\n",
    "povray_cam = vapory.Camera('location', [xcm, ycm, -50.01*radius], 'look_at', [xcm,ycm,0], 'angle', 90)\n",
    "\n",
    "# text\n",
    "# If desired include this in the povray_objects - array declared in the loop\n",
    "#text1 = vapory.Text( 'ttf', '\"timrom.ttf\"' ,\\\n",
    "#    '\"Division:\"', 0.01, 0.0, 'scale', [0.5,0.5,0.5],'rotate', [0,90,0], \\\n",
    "#'translate' , [0.0 , 15.0+2.75-1 , 15.0+1.5], vapory.Pigment('Black') ) \n",
    "\n",
    "# render quality\n",
    "quality = 10"
   ]
  },
  {
   "cell_type": "code",
   "execution_count": 30,
   "metadata": {
    "collapsed": false
   },
   "outputs": [],
   "source": [
    "my_cmap = cm.get_cmap('jet')\n",
    "minval = 0\n",
    "maxval = ncells\n",
    "norm = mpl.colors.Normalize(minval, maxval)\n",
    "zp = np.zeros((nbeads), dtype=np.float32)\n",
    "\n",
    "sphere_rgbcolor = []\n",
    "for i in xrange(nbeads):\n",
    "    si = my_cmap(norm(cid[i]))\n",
    "    #sphere_rgbcolor.append([0, 0, 1])\n",
    "    sphere_rgbcolor.append([si[0], si[1], si[2]])\n",
    "\n",
    "### create povray items\n",
    "\n",
    "particles = vapory.Object( \\\n",
    "    vapory.Union( \\\n",
    "        *[ vapory.Sphere([xi[j],yi[j],zp[j]], \\\n",
    "            sphere_radius, vapory.Texture( \\\n",
    "                vapory.Pigment('color', sphere_rgbcolor[j]), \\\n",
    "                    vapory.Finish('phong',1)) ) for j in range(0, nbeads) ] ) )\n",
    "\n",
    "### generate povray objects\n",
    "\n",
    "povray_objects = [sun1, sun2, background, particles]\n",
    "\n",
    "### create the scene\n",
    "\n",
    "scene = vapory.Scene(camera = povray_cam,\n",
    "               objects = povray_objects, \n",
    "               included = povray_includes, \n",
    "               defaults = povray_defaults)\n",
    "\n",
    "### render image\n",
    "\n",
    "scene.render(outfile='monolayer_init.png', width=img_widthpx, height=img_heightpx, \\\n",
    "    antialiasing=0.001, quality=quality, remove_temp=True)    "
   ]
  },
  {
   "cell_type": "code",
   "execution_count": 14,
   "metadata": {
    "collapsed": false
   },
   "outputs": [],
   "source": [
    "def calc_area_of_cells(radii, nbpc, cid):\n",
    "    \"\"\" calculate the area of cells\"\"\"\n",
    "    \n",
    "    sigma = 1.\n",
    "    areas = 0.9*np.pi*radii**2 + 0.25*nbpc*np.pi*sigma**2\n",
    "    #areas = 0.9*np.pi*radii**2\n",
    "    \n",
    "    return areas"
   ]
  },
  {
   "cell_type": "code",
   "execution_count": 15,
   "metadata": {
    "collapsed": false
   },
   "outputs": [],
   "source": [
    "areas = calc_area_of_cells(radii, nbpc, cid)"
   ]
  },
  {
   "cell_type": "code",
   "execution_count": 16,
   "metadata": {
    "collapsed": false
   },
   "outputs": [],
   "source": [
    "def calc_std_perc(arr):\n",
    "    \"\"\" calculate the standard deviation around the mean\"\"\"\n",
    "    \n",
    "    return 100.*np.std(arr)/np.mean(arr)"
   ]
  },
  {
   "cell_type": "code",
   "execution_count": 17,
   "metadata": {
    "collapsed": false
   },
   "outputs": [
    {
     "name": "stdout",
     "output_type": "stream",
     "text": [
      "There is 5.07003520295% standard deviation in radius around the mean radius of 3.13976097083\n",
      "There is 7.46595730872% standard deviation in area around the mean area of 58.9329653894\n"
     ]
    }
   ],
   "source": [
    "std_perc_radius = calc_std_perc(radii)\n",
    "print \"There is \" + str(std_perc_radius) + \"% standard deviation in radius around the mean radius of \" \\\n",
    "    + str(np.mean(radii)) \n",
    "std_perc_area = calc_std_perc(areas)\n",
    "print \"There is \" + str(std_perc_area) + \"% standard deviation in area around the mean area of \" \\\n",
    "    + str(np.mean(areas)) "
   ]
  },
  {
   "cell_type": "code",
   "execution_count": 18,
   "metadata": {
    "collapsed": false
   },
   "outputs": [
    {
     "name": "stderr",
     "output_type": "stream",
     "text": [
      "/Users/melampyge/anaconda2/lib/python2.7/site-packages/matplotlib/axes/_axes.py:531: UserWarning: No labelled objects found. Use label='...' kwarg on individual plots.\n",
      "  warnings.warn(\"No labelled objects found. \"\n"
     ]
    },
    {
     "data": {
      "image/png": "[encoded data removed]",
      "text/plain": [
       "<matplotlib.figure.Figure at 0x116e5bb90>"
      ]
     },
     "metadata": {},
     "output_type": "display_data"
    }
   ],
   "source": [
    "### set general plot properties\n",
    "\n",
    "downlim = -2\n",
    "uplim = lx+2\n",
    "num_ticks = 5\n",
    "ax_len = 1.0                          # Length of one subplot square box\n",
    "ax_b = 0.0                            # Beginning/offset of the subplot in the box\n",
    "ax_sep = 0.0                          # Separation length between two subplots\n",
    "total_subplots_in_x = 1               # Total number of subplots    \n",
    "fig = plt.figure()\n",
    "subp = misc_tools.Subplots(fig, ax_len, ax_sep, ax_b, total_subplots_in_x) \n",
    "ax0 = subp.addSubplot()\n",
    "\n",
    "### plot \n",
    "\n",
    "line0 = ax0.hist(areas, bins=30, normed=True)\n",
    "\n",
    "#ax0.axvline(constants['fp=1.0'].tau_R/constants['fp=1.0'].tau_D, color='black')\n",
    "\n",
    "### labels\n",
    "\n",
    "ax0.set_xlabel(r\"$A_c/\\sigma^2$\", fontsize=40)\n",
    "ax0.set_ylabel(r\"$P(A_c/\\sigma^2)$\", fontsize=40)\n",
    "\n",
    "### limits\n",
    "\n",
    "#ax0.set_xlim((-1, 3.0))\n",
    "#ax0.set_ylim((-0.2, 3.0))\n",
    "\n",
    "### ticks\n",
    "\n",
    "#ax0.xaxis.set_ticks(np.linspace(0, uplim, num_ticks, endpoint=True))\n",
    "#ax0.yaxis.set_ticks(np.linspace(0, uplim, num_ticks, endpoint=True))\n",
    "ax0.tick_params(axis='both', which='major', labelsize=30)\n",
    "\n",
    "### legend\n",
    "\n",
    "ax0.legend(bbox_to_anchor=(0.05, 0., 0.65, 1.0), loc=2, borderaxespad=0., \\\n",
    "    prop={'size': 20}, mode=\"expand\", frameon=False)\n",
    "    \n",
    "### save\n",
    "\n",
    "savepath = \"area_histogram.pdf\"          \n",
    "plt.savefig(savepath, dpi=300, bbox_inches='tight', pad_inches=0.08)"
   ]
  },
  {
   "cell_type": "code",
   "execution_count": 19,
   "metadata": {
    "collapsed": false
   },
   "outputs": [
    {
     "name": "stdout",
     "output_type": "stream",
     "text": [
      "Density of the system is : 1.51841436166\n",
      "Number density of the system is : 1.01657273835\n"
     ]
    }
   ],
   "source": [
    "print \"Density of the system is : \" + str(np.sum(areas)/lx/ly)\n",
    "print \"Number density of the system is : \" + str(nbeads/lx/ly)"
   ]
  },
  {
   "cell_type": "markdown",
   "metadata": {},
   "source": [
    "Little bit of clarification on notation:\n",
    "\n",
    "- x, y: Unwrapped coordinates of beads\n",
    "- xi, yi: Wrapped coordinates of beads inside the central simulation box\n",
    "- xip, yip: Wrapped coordinates of beads inside the central simulation box that is SORTED according to their corresponding bond order inside a cell\n",
    "- xcom, ycom: Wrapped center of mass coordinates of cells inside the central simulation box\n",
    "- xpc, ypc: Wrapped coordinates of cells inside the central simulation box with each cell keeping a list of its beads coordinates\n",
    "- xpbc, ypbc: Just like xpc and ypc, but corrected for periodic boundary conditions"
   ]
  },
  {
   "cell_type": "code",
   "execution_count": 53,
   "metadata": {
    "collapsed": true
   },
   "outputs": [],
   "source": [
    "def sort_beads(xi, yi, nbeads, bid, cid):\n",
    "    \"\"\" sort bead positions based on the cell identities of beads\"\"\"\n",
    "    \n",
    "    xip = np.zeros((nbeads), dtype=np.float32)\n",
    "    yip = np.zeros((nbeads), dtype=np.float32)\n",
    "    k = 0\n",
    "    for n in xrange(ncells):\n",
    "        idx = np.sort(bid[cid==n])\n",
    "        for i in idx:\n",
    "            xip[k] = xi[bid==i]\n",
    "            yip[k] = yi[bid==i]\n",
    "            k += 1     \n",
    "            \n",
    "    return xip, yip"
   ]
  },
  {
   "cell_type": "code",
   "execution_count": 20,
   "metadata": {
    "collapsed": true
   },
   "outputs": [],
   "source": [
    "def coords_per_cells(x, y, nbpc):\n",
    "    \"\"\" get the coordinates of beads in terms of cells\"\"\"\n",
    "    \n",
    "    splitter = np.cumsum(nbpc)[:-1]\n",
    "    x_per_cell = np.split(x, splitter)\n",
    "    y_per_cell = np.split(y, splitter)\n",
    "    \n",
    "    return x_per_cell, y_per_cell"
   ]
  },
  {
   "cell_type": "code",
   "execution_count": 21,
   "metadata": {
    "collapsed": true
   },
   "outputs": [],
   "source": [
    "def calc_com_of_cells(xpc, ypc, lx, ly):\n",
    "    \"\"\" calculate the center of mass of cells\n",
    "    note that calculation is over unwrapped coordinates of beads\n",
    "    and coms are wrapped back into the central box\"\"\"\n",
    "    \n",
    "    xcom = np.array([np.mean(posarr) for posarr in xpc])\n",
    "    xcom -= np.floor(xcom/lx)*lx\n",
    "    ycom = np.array([np.mean(posarr) for posarr in ypc])\n",
    "    ycom -= np.floor(ycom/ly)*ly\n",
    "    \n",
    "    return xcom, ycom"
   ]
  },
  {
   "cell_type": "code",
   "execution_count": 22,
   "metadata": {
    "collapsed": true
   },
   "outputs": [],
   "source": [
    "def pbc_dist_around_com(x1, x2, lx):\n",
    "    \"\"\" correct the periodic boundary corrected distance between the positions x1-x2\"\"\"\n",
    "    \n",
    "    dx = x1-x2 \n",
    "    \n",
    "    if dx > lx/2.:\n",
    "        dx = -lx\n",
    "    elif dx < -lx/2.:\n",
    "        dx = lx\n",
    "    else:\n",
    "        dx = 0.\n",
    "        \n",
    "    return dx"
   ]
  },
  {
   "cell_type": "code",
   "execution_count": 54,
   "metadata": {
    "collapsed": true
   },
   "outputs": [],
   "source": [
    "def correct_pbc_around_com(xi, yi, xcom, ycom, nbeads, ncells, nbpc, lx, ly):\n",
    "    \"\"\" correct bead positions according to cell center of mass positions\"\"\"\n",
    "    \n",
    "    xpbc = np.zeros((nbeads), dtype=np.float32)\n",
    "    ypbc = np.zeros((nbeads), dtype=np.float32)\n",
    "    \n",
    "    k = 0\n",
    "    for n in xrange(ncells):\n",
    "        for j in xrange(nbpc[n]):\n",
    "            dx = pbc_dist_around_com(xi[k], xcom[n], lx)\n",
    "            dy = pbc_dist_around_com(yi[k], ycom[n], ly)\n",
    "            xpbc[k] = xi[k] + dx\n",
    "            ypbc[k] = yi[k] + dy\n",
    "            xi[k] += dx\n",
    "            yi[k] += dy\n",
    "            k += 1\n",
    "        \n",
    "    return xpbc, ypbc"
   ]
  },
  {
   "cell_type": "code",
   "execution_count": 24,
   "metadata": {
    "collapsed": false
   },
   "outputs": [],
   "source": [
    "from matplotlib.patches import Polygon\n",
    "from matplotlib.collections import PatchCollection\n",
    "from matplotlib.collections import PolyCollection"
   ]
  },
  {
   "cell_type": "code",
   "execution_count": 25,
   "metadata": {
    "collapsed": true
   },
   "outputs": [],
   "source": [
    "xpc, ypc = coords_per_cells(x, y, nbpc)"
   ]
  },
  {
   "cell_type": "code",
   "execution_count": 86,
   "metadata": {
    "collapsed": true
   },
   "outputs": [],
   "source": []
  },
  {
   "cell_type": "code",
   "execution_count": 55,
   "metadata": {
    "collapsed": false
   },
   "outputs": [],
   "source": [
    "xcom, ycom = calc_com_of_cells(xpc, ypc, lx, ly)\n",
    "#plt.scatter(xi, yi, s=0.5, c='g', alpha=0.3)\n",
    "#plt.scatter(xcom, ycom, s=0.5, c='b',alpha=1.0)\n",
    "#plt.axis('equal')\n",
    "#plt.savefig(\"debug.png\", dpi=300, bbox_inches='tight', pad_inches=0.08)"
   ]
  },
  {
   "cell_type": "code",
   "execution_count": 56,
   "metadata": {
    "collapsed": false
   },
   "outputs": [],
   "source": [
    "xpbc, ypbc = correct_pbc_around_com(xi, yi, xcom, ycom, nbeads, ncells, nbpc, lx, ly)"
   ]
  },
  {
   "cell_type": "code",
   "execution_count": 182,
   "metadata": {
    "collapsed": true
   },
   "outputs": [],
   "source": []
  },
  {
   "cell_type": "code",
   "execution_count": 123,
   "metadata": {
    "collapsed": false
   },
   "outputs": [
    {
     "data": {
      "image/png": "[encoded data removed]",
      "text/plain": [
       "<matplotlib.figure.Figure at 0x11a13c5d0>"
      ]
     },
     "metadata": {},
     "output_type": "display_data"
    }
   ],
   "source": [
    "ax_len = 1.0                          # Length of one subplot square box\n",
    "ax_b = 0.0                            # Beginning/offset of the subplot in the box\n",
    "ax_sep = 0.0                          # Separation length between two subplots\n",
    "total_subplots_in_x = 1               # Total number of subplots    \n",
    "fig = plt.figure()\n",
    "subp = misc_tools.Subplots(fig, ax_len, ax_sep, ax_b, total_subplots_in_x) \n",
    "ax0 = subp.addSubplot()\n",
    "\n",
    "patches = []\n",
    "k = 0\n",
    "for n in range(ncells):\n",
    "    r = np.vstack((xpbc[k:k+nbpc[n]]/0.5, ypbc[k:k+nbpc[n]]/0.5)).T\n",
    "    k += nbpc[n]\n",
    "    polygon = Polygon(r, True)\n",
    "    patches.append(polygon)\n",
    "    \n",
    "p = PatchCollection(patches, facecolor='black', alpha=1.0)\n",
    "\n",
    "ax0.add_collection(p)\n",
    "ax0.autoscale_view()\n",
    "\n",
    "ax0.scatter(xi/0.5, yi/0.5, s=1.0, c='black', alpha=1.0)\n",
    "\n",
    "ax0.axis('equal')\n",
    "ax0.set_xlim((-10, lx/0.5+10))\n",
    "ax0.set_ylim((-10, ly/0.5+10))\n",
    "ax0.axis('off')\n",
    "\n",
    "savepath = \"area_polygons.png\"          \n",
    "plt.savefig(savepath, dpi=300, bbox_inches='tight', pad_inches=0.0)"
   ]
  },
  {
   "cell_type": "code",
   "execution_count": 124,
   "metadata": {
    "collapsed": false
   },
   "outputs": [],
   "source": [
    "import PIL\n",
    "from PIL import Image"
   ]
  },
  {
   "cell_type": "code",
   "execution_count": 125,
   "metadata": {
    "collapsed": false
   },
   "outputs": [
    {
     "name": "stdout",
     "output_type": "stream",
     "text": [
      "<PIL.PngImagePlugin.PngImageFile image mode=RGBA size=2043x1412 at 0x1196C5110>\n"
     ]
    }
   ],
   "source": [
    "im = Image.open(\"area_polygons.png\")\n",
    "print im"
   ]
  },
  {
   "cell_type": "code",
   "execution_count": 146,
   "metadata": {
    "collapsed": false
   },
   "outputs": [],
   "source": [
    "bim = im.convert('1') \n",
    "bim.save('area_polygons_bw.png')"
   ]
  },
  {
   "cell_type": "code",
   "execution_count": 147,
   "metadata": {
    "collapsed": false
   },
   "outputs": [],
   "source": [
    "bimd = np.ravel(np.asarray(bim))"
   ]
  },
  {
   "cell_type": "code",
   "execution_count": 154,
   "metadata": {
    "collapsed": false
   },
   "outputs": [
    {
     "name": "stdout",
     "output_type": "stream",
     "text": [
      "0.579456695217\n",
      "0.420543304783\n"
     ]
    }
   ],
   "source": [
    "print float(len(bimd[bimd==False]))/float(len(bimd))\n",
    "print float(len(bimd[bimd==True]))/float(len(bimd))"
   ]
  },
  {
   "cell_type": "code",
   "execution_count": null,
   "metadata": {
    "collapsed": false
   },
   "outputs": [],
   "source": []
  },
  {
   "cell_type": "code",
   "execution_count": null,
   "metadata": {
    "collapsed": false
   },
   "outputs": [],
   "source": []
  },
  {
   "cell_type": "code",
   "execution_count": null,
   "metadata": {
    "collapsed": false
   },
   "outputs": [],
   "source": []
  },
  {
   "cell_type": "code",
   "execution_count": null,
   "metadata": {
    "collapsed": true
   },
   "outputs": [],
   "source": []
  }
 ],
 "metadata": {
  "kernelspec": {
   "display_name": "Python 2",
   "language": "python",
   "name": "python2"
  },
  "language_info": {
   "codemirror_mode": {
    "name": "ipython",
    "version": 2
   },
   "file_extension": ".py",
   "mimetype": "text/x-python",
   "name": "python",
   "nbconvert_exporter": "python",
   "pygments_lexer": "ipython2",
   "version": "2.7.12"
  }
 },
 "nbformat": 4,
 "nbformat_minor": 0
}
